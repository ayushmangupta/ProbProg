{
 "cells": [
  {
   "cell_type": "markdown",
   "metadata": {},
   "source": [
    "## Excel Data Analysis with Python"
   ]
  },
  {
   "cell_type": "markdown",
   "metadata": {},
   "source": [
    "This notebook describes a workflow for data analysis with Python and Excel. The purpose of this workflow is to prototype a method that can be extended to Excel to distribute to end users who aren't familiar with Python. This allows for more robust analysis with a ubiquitous front-end in Excel."
   ]
  },
  {
   "cell_type": "markdown",
   "metadata": {},
   "source": [
    "After doing the analysis, the code in the IPython Notebook would then be transferred to production in order to leverage packages that have been around longer and thus have more functionality such as formatting, tables, etc. These include <a href=\"http://www.python-excel.org/\">xlwt, xlrd</a> and <a href=\"https://xlsxwriter.readthedocs.org/\">Xlsxwriter</a>."
   ]
  },
  {
   "cell_type": "markdown",
   "metadata": {},
   "source": [
    "The following is based on the statsmodel ARMA model example with a different dataset."
   ]
  },
  {
   "cell_type": "markdown",
   "metadata": {},
   "source": [
    "### Getting Started"
   ]
  },
  {
   "cell_type": "markdown",
   "metadata": {},
   "source": [
    "Load Pylab inline to view matplotlib charts"
   ]
  },
  {
   "cell_type": "code",
   "execution_count": 6,
   "metadata": {
    "collapsed": false
   },
   "outputs": [
    {
     "name": "stdout",
     "output_type": "stream",
     "text": [
      "Populating the interactive namespace from numpy and matplotlib\n"
     ]
    }
   ],
   "source": [
    "%pylab inline"
   ]
  },
  {
   "cell_type": "markdown",
   "metadata": {},
   "source": [
    "Import required libraries for analysis"
   ]
  },
  {
   "cell_type": "code",
   "execution_count": 1,
   "metadata": {
    "collapsed": false
   },
   "outputs": [],
   "source": [
    "from __future__ import print_function\n",
    "import numpy as np\n",
    "import pandas as pd\n",
    "from pandas import Series, DataFrame\n",
    "from scipy import stats\n",
    "import matplotlib.pyplot as plt\n",
    "import statsmodels.api as sm\n",
    "from IPython.display import Image"
   ]
  },
  {
   "cell_type": "code",
   "execution_count": 2,
   "metadata": {
    "collapsed": false
   },
   "outputs": [],
   "source": [
    "from statsmodels.graphics.api import qqplot"
   ]
  },
  {
   "cell_type": "markdown",
   "metadata": {},
   "source": [
    "xlwings is a Python library that allows interaction with Excel and IPython Notebooks. It has support for range, workbook and chart objects that can be read and written through a notebook. It is a new library so there isn't a whole lot of features, but it works great for prototyping interaction with Excel."
   ]
  },
  {
   "cell_type": "code",
   "execution_count": 9,
   "metadata": {
    "collapsed": false
   },
   "outputs": [
    {
     "data": {
      "text/html": [
       "<iframe src=http://xlwings.org/ width=800 height=300></iframe>"
      ],
      "text/plain": [
       "<IPython.core.display.HTML at 0xecf0a90>"
      ]
     },
     "execution_count": 9,
     "metadata": {},
     "output_type": "execute_result"
    }
   ],
   "source": [
    "from IPython.display import HTML\n",
    "HTML('<iframe src=http://xlwings.org/ width=800 height=300></iframe>')"
   ]
  },
  {
   "cell_type": "markdown",
   "metadata": {},
   "source": [
    "Import xlwings and open a new Excel sheet. These must be placed in the same cell in order to load properly."
   ]
  },
  {
   "cell_type": "code",
   "execution_count": 3,
   "metadata": {
    "collapsed": false
   },
   "outputs": [],
   "source": [
    "from xlwings import Range, Workbook, Chart\n",
    "wb = Workbook()"
   ]
  },
  {
   "cell_type": "markdown",
   "metadata": {},
   "source": [
    "Loading Data into Python and Excel"
   ]
  },
  {
   "cell_type": "markdown",
   "metadata": {},
   "source": [
    "The dataset used is from R's standard dataset library. The datasets can be found on Github here: <a href=\"https://github.com/vincentarelbundock/Rdatasets\">R datasets</a>.  The data represents annual lynx captures from 1821 to 1934. It includes only 114 records, so our fit might not be that great. If the data was by month or by week, it might yield a better model. However, the data's short and interesting so it'll work great for our purpose!"
   ]
  },
  {
   "cell_type": "code",
   "execution_count": 20,
   "metadata": {
    "collapsed": false
   },
   "outputs": [],
   "source": [
    "lynx = pd.read_csv('C:\\Users\\Aaron\\Google_Drive\\Projects\\Datasets\\Rdata\\datasets\\lynx.csv')"
   ]
  },
  {
   "cell_type": "code",
   "execution_count": 21,
   "metadata": {
    "collapsed": false
   },
   "outputs": [
    {
     "data": {
      "text/html": [
       "<div style=\"max-height:1000px;max-width:1500px;overflow:auto;\">\n",
       "<table border=\"1\" class=\"dataframe\">\n",
       "  <thead>\n",
       "    <tr style=\"text-align: right;\">\n",
       "      <th></th>\n",
       "      <th>Unnamed: 0</th>\n",
       "      <th>time</th>\n",
       "      <th>lynx</th>\n",
       "    </tr>\n",
       "  </thead>\n",
       "  <tbody>\n",
       "    <tr>\n",
       "      <th>0 </th>\n",
       "      <td>  1</td>\n",
       "      <td> 1821</td>\n",
       "      <td>  269</td>\n",
       "    </tr>\n",
       "    <tr>\n",
       "      <th>1 </th>\n",
       "      <td>  2</td>\n",
       "      <td> 1822</td>\n",
       "      <td>  321</td>\n",
       "    </tr>\n",
       "    <tr>\n",
       "      <th>2 </th>\n",
       "      <td>  3</td>\n",
       "      <td> 1823</td>\n",
       "      <td>  585</td>\n",
       "    </tr>\n",
       "    <tr>\n",
       "      <th>3 </th>\n",
       "      <td>  4</td>\n",
       "      <td> 1824</td>\n",
       "      <td>  871</td>\n",
       "    </tr>\n",
       "    <tr>\n",
       "      <th>4 </th>\n",
       "      <td>  5</td>\n",
       "      <td> 1825</td>\n",
       "      <td> 1475</td>\n",
       "    </tr>\n",
       "    <tr>\n",
       "      <th>5 </th>\n",
       "      <td>  6</td>\n",
       "      <td> 1826</td>\n",
       "      <td> 2821</td>\n",
       "    </tr>\n",
       "    <tr>\n",
       "      <th>6 </th>\n",
       "      <td>  7</td>\n",
       "      <td> 1827</td>\n",
       "      <td> 3928</td>\n",
       "    </tr>\n",
       "    <tr>\n",
       "      <th>7 </th>\n",
       "      <td>  8</td>\n",
       "      <td> 1828</td>\n",
       "      <td> 5943</td>\n",
       "    </tr>\n",
       "    <tr>\n",
       "      <th>8 </th>\n",
       "      <td>  9</td>\n",
       "      <td> 1829</td>\n",
       "      <td> 4950</td>\n",
       "    </tr>\n",
       "    <tr>\n",
       "      <th>9 </th>\n",
       "      <td> 10</td>\n",
       "      <td> 1830</td>\n",
       "      <td> 2577</td>\n",
       "    </tr>\n",
       "    <tr>\n",
       "      <th>10</th>\n",
       "      <td> 11</td>\n",
       "      <td> 1831</td>\n",
       "      <td>  523</td>\n",
       "    </tr>\n",
       "    <tr>\n",
       "      <th>11</th>\n",
       "      <td> 12</td>\n",
       "      <td> 1832</td>\n",
       "      <td>   98</td>\n",
       "    </tr>\n",
       "    <tr>\n",
       "      <th>12</th>\n",
       "      <td> 13</td>\n",
       "      <td> 1833</td>\n",
       "      <td>  184</td>\n",
       "    </tr>\n",
       "    <tr>\n",
       "      <th>13</th>\n",
       "      <td> 14</td>\n",
       "      <td> 1834</td>\n",
       "      <td>  279</td>\n",
       "    </tr>\n",
       "    <tr>\n",
       "      <th>14</th>\n",
       "      <td> 15</td>\n",
       "      <td> 1835</td>\n",
       "      <td>  409</td>\n",
       "    </tr>\n",
       "    <tr>\n",
       "      <th>15</th>\n",
       "      <td> 16</td>\n",
       "      <td> 1836</td>\n",
       "      <td> 2285</td>\n",
       "    </tr>\n",
       "    <tr>\n",
       "      <th>16</th>\n",
       "      <td> 17</td>\n",
       "      <td> 1837</td>\n",
       "      <td> 2685</td>\n",
       "    </tr>\n",
       "    <tr>\n",
       "      <th>17</th>\n",
       "      <td> 18</td>\n",
       "      <td> 1838</td>\n",
       "      <td> 3409</td>\n",
       "    </tr>\n",
       "    <tr>\n",
       "      <th>18</th>\n",
       "      <td> 19</td>\n",
       "      <td> 1839</td>\n",
       "      <td> 1824</td>\n",
       "    </tr>\n",
       "    <tr>\n",
       "      <th>19</th>\n",
       "      <td> 20</td>\n",
       "      <td> 1840</td>\n",
       "      <td>  409</td>\n",
       "    </tr>\n",
       "    <tr>\n",
       "      <th>20</th>\n",
       "      <td> 21</td>\n",
       "      <td> 1841</td>\n",
       "      <td>  151</td>\n",
       "    </tr>\n",
       "    <tr>\n",
       "      <th>21</th>\n",
       "      <td> 22</td>\n",
       "      <td> 1842</td>\n",
       "      <td>   45</td>\n",
       "    </tr>\n",
       "    <tr>\n",
       "      <th>22</th>\n",
       "      <td> 23</td>\n",
       "      <td> 1843</td>\n",
       "      <td>   68</td>\n",
       "    </tr>\n",
       "    <tr>\n",
       "      <th>23</th>\n",
       "      <td> 24</td>\n",
       "      <td> 1844</td>\n",
       "      <td>  213</td>\n",
       "    </tr>\n",
       "    <tr>\n",
       "      <th>24</th>\n",
       "      <td> 25</td>\n",
       "      <td> 1845</td>\n",
       "      <td>  546</td>\n",
       "    </tr>\n",
       "    <tr>\n",
       "      <th>25</th>\n",
       "      <td> 26</td>\n",
       "      <td> 1846</td>\n",
       "      <td> 1033</td>\n",
       "    </tr>\n",
       "    <tr>\n",
       "      <th>26</th>\n",
       "      <td> 27</td>\n",
       "      <td> 1847</td>\n",
       "      <td> 2129</td>\n",
       "    </tr>\n",
       "    <tr>\n",
       "      <th>27</th>\n",
       "      <td> 28</td>\n",
       "      <td> 1848</td>\n",
       "      <td> 2536</td>\n",
       "    </tr>\n",
       "    <tr>\n",
       "      <th>28</th>\n",
       "      <td> 29</td>\n",
       "      <td> 1849</td>\n",
       "      <td>  957</td>\n",
       "    </tr>\n",
       "    <tr>\n",
       "      <th>29</th>\n",
       "      <td> 30</td>\n",
       "      <td> 1850</td>\n",
       "      <td>  361</td>\n",
       "    </tr>\n",
       "    <tr>\n",
       "      <th>30</th>\n",
       "      <td> 31</td>\n",
       "      <td> 1851</td>\n",
       "      <td>  377</td>\n",
       "    </tr>\n",
       "    <tr>\n",
       "      <th>31</th>\n",
       "      <td> 32</td>\n",
       "      <td> 1852</td>\n",
       "      <td>  225</td>\n",
       "    </tr>\n",
       "    <tr>\n",
       "      <th>32</th>\n",
       "      <td> 33</td>\n",
       "      <td> 1853</td>\n",
       "      <td>  360</td>\n",
       "    </tr>\n",
       "    <tr>\n",
       "      <th>33</th>\n",
       "      <td> 34</td>\n",
       "      <td> 1854</td>\n",
       "      <td>  731</td>\n",
       "    </tr>\n",
       "    <tr>\n",
       "      <th>34</th>\n",
       "      <td> 35</td>\n",
       "      <td> 1855</td>\n",
       "      <td> 1638</td>\n",
       "    </tr>\n",
       "    <tr>\n",
       "      <th>35</th>\n",
       "      <td> 36</td>\n",
       "      <td> 1856</td>\n",
       "      <td> 2725</td>\n",
       "    </tr>\n",
       "    <tr>\n",
       "      <th>36</th>\n",
       "      <td> 37</td>\n",
       "      <td> 1857</td>\n",
       "      <td> 2871</td>\n",
       "    </tr>\n",
       "    <tr>\n",
       "      <th>37</th>\n",
       "      <td> 38</td>\n",
       "      <td> 1858</td>\n",
       "      <td> 2119</td>\n",
       "    </tr>\n",
       "    <tr>\n",
       "      <th>38</th>\n",
       "      <td> 39</td>\n",
       "      <td> 1859</td>\n",
       "      <td>  684</td>\n",
       "    </tr>\n",
       "    <tr>\n",
       "      <th>39</th>\n",
       "      <td> 40</td>\n",
       "      <td> 1860</td>\n",
       "      <td>  299</td>\n",
       "    </tr>\n",
       "    <tr>\n",
       "      <th>40</th>\n",
       "      <td> 41</td>\n",
       "      <td> 1861</td>\n",
       "      <td>  236</td>\n",
       "    </tr>\n",
       "    <tr>\n",
       "      <th>41</th>\n",
       "      <td> 42</td>\n",
       "      <td> 1862</td>\n",
       "      <td>  245</td>\n",
       "    </tr>\n",
       "    <tr>\n",
       "      <th>42</th>\n",
       "      <td> 43</td>\n",
       "      <td> 1863</td>\n",
       "      <td>  552</td>\n",
       "    </tr>\n",
       "    <tr>\n",
       "      <th>43</th>\n",
       "      <td> 44</td>\n",
       "      <td> 1864</td>\n",
       "      <td> 1623</td>\n",
       "    </tr>\n",
       "    <tr>\n",
       "      <th>44</th>\n",
       "      <td> 45</td>\n",
       "      <td> 1865</td>\n",
       "      <td> 3311</td>\n",
       "    </tr>\n",
       "    <tr>\n",
       "      <th>45</th>\n",
       "      <td> 46</td>\n",
       "      <td> 1866</td>\n",
       "      <td> 6721</td>\n",
       "    </tr>\n",
       "    <tr>\n",
       "      <th>46</th>\n",
       "      <td> 47</td>\n",
       "      <td> 1867</td>\n",
       "      <td> 4254</td>\n",
       "    </tr>\n",
       "    <tr>\n",
       "      <th>47</th>\n",
       "      <td> 48</td>\n",
       "      <td> 1868</td>\n",
       "      <td>  687</td>\n",
       "    </tr>\n",
       "    <tr>\n",
       "      <th>48</th>\n",
       "      <td> 49</td>\n",
       "      <td> 1869</td>\n",
       "      <td>  255</td>\n",
       "    </tr>\n",
       "    <tr>\n",
       "      <th>49</th>\n",
       "      <td> 50</td>\n",
       "      <td> 1870</td>\n",
       "      <td>  473</td>\n",
       "    </tr>\n",
       "    <tr>\n",
       "      <th>50</th>\n",
       "      <td> 51</td>\n",
       "      <td> 1871</td>\n",
       "      <td>  358</td>\n",
       "    </tr>\n",
       "    <tr>\n",
       "      <th>51</th>\n",
       "      <td> 52</td>\n",
       "      <td> 1872</td>\n",
       "      <td>  784</td>\n",
       "    </tr>\n",
       "    <tr>\n",
       "      <th>52</th>\n",
       "      <td> 53</td>\n",
       "      <td> 1873</td>\n",
       "      <td> 1594</td>\n",
       "    </tr>\n",
       "    <tr>\n",
       "      <th>53</th>\n",
       "      <td> 54</td>\n",
       "      <td> 1874</td>\n",
       "      <td> 1676</td>\n",
       "    </tr>\n",
       "    <tr>\n",
       "      <th>54</th>\n",
       "      <td> 55</td>\n",
       "      <td> 1875</td>\n",
       "      <td> 2251</td>\n",
       "    </tr>\n",
       "    <tr>\n",
       "      <th>55</th>\n",
       "      <td> 56</td>\n",
       "      <td> 1876</td>\n",
       "      <td> 1426</td>\n",
       "    </tr>\n",
       "    <tr>\n",
       "      <th>56</th>\n",
       "      <td> 57</td>\n",
       "      <td> 1877</td>\n",
       "      <td>  756</td>\n",
       "    </tr>\n",
       "    <tr>\n",
       "      <th>57</th>\n",
       "      <td> 58</td>\n",
       "      <td> 1878</td>\n",
       "      <td>  299</td>\n",
       "    </tr>\n",
       "    <tr>\n",
       "      <th>58</th>\n",
       "      <td> 59</td>\n",
       "      <td> 1879</td>\n",
       "      <td>  201</td>\n",
       "    </tr>\n",
       "    <tr>\n",
       "      <th>59</th>\n",
       "      <td> 60</td>\n",
       "      <td> 1880</td>\n",
       "      <td>  229</td>\n",
       "    </tr>\n",
       "    <tr>\n",
       "      <th></th>\n",
       "      <td>...</td>\n",
       "      <td>...</td>\n",
       "      <td>...</td>\n",
       "    </tr>\n",
       "  </tbody>\n",
       "</table>\n",
       "<p>114 rows × 3 columns</p>\n",
       "</div>"
      ],
      "text/plain": [
       "    Unnamed: 0  time  lynx\n",
       "0            1  1821   269\n",
       "1            2  1822   321\n",
       "2            3  1823   585\n",
       "3            4  1824   871\n",
       "4            5  1825  1475\n",
       "5            6  1826  2821\n",
       "6            7  1827  3928\n",
       "7            8  1828  5943\n",
       "8            9  1829  4950\n",
       "9           10  1830  2577\n",
       "10          11  1831   523\n",
       "11          12  1832    98\n",
       "12          13  1833   184\n",
       "13          14  1834   279\n",
       "14          15  1835   409\n",
       "15          16  1836  2285\n",
       "16          17  1837  2685\n",
       "17          18  1838  3409\n",
       "18          19  1839  1824\n",
       "19          20  1840   409\n",
       "20          21  1841   151\n",
       "21          22  1842    45\n",
       "22          23  1843    68\n",
       "23          24  1844   213\n",
       "24          25  1845   546\n",
       "25          26  1846  1033\n",
       "26          27  1847  2129\n",
       "27          28  1848  2536\n",
       "28          29  1849   957\n",
       "29          30  1850   361\n",
       "30          31  1851   377\n",
       "31          32  1852   225\n",
       "32          33  1853   360\n",
       "33          34  1854   731\n",
       "34          35  1855  1638\n",
       "35          36  1856  2725\n",
       "36          37  1857  2871\n",
       "37          38  1858  2119\n",
       "38          39  1859   684\n",
       "39          40  1860   299\n",
       "40          41  1861   236\n",
       "41          42  1862   245\n",
       "42          43  1863   552\n",
       "43          44  1864  1623\n",
       "44          45  1865  3311\n",
       "45          46  1866  6721\n",
       "46          47  1867  4254\n",
       "47          48  1868   687\n",
       "48          49  1869   255\n",
       "49          50  1870   473\n",
       "50          51  1871   358\n",
       "51          52  1872   784\n",
       "52          53  1873  1594\n",
       "53          54  1874  1676\n",
       "54          55  1875  2251\n",
       "55          56  1876  1426\n",
       "56          57  1877   756\n",
       "57          58  1878   299\n",
       "58          59  1879   201\n",
       "59          60  1880   229\n",
       "           ...   ...   ...\n",
       "\n",
       "[114 rows x 3 columns]"
      ]
     },
     "execution_count": 21,
     "metadata": {},
     "output_type": "execute_result"
    }
   ],
   "source": [
    "lynx"
   ]
  },
  {
   "cell_type": "markdown",
   "metadata": {},
   "source": [
    "### Load the Data into Excel"
   ]
  },
  {
   "cell_type": "markdown",
   "metadata": {},
   "source": [
    "Copy the lynx object into Excel by using the Range object. The DataFrame will be copied starting at cell A1."
   ]
  },
  {
   "cell_type": "code",
   "execution_count": 7,
   "metadata": {
    "collapsed": false
   },
   "outputs": [],
   "source": [
    "Range('A1').value = lynx"
   ]
  },
  {
   "cell_type": "markdown",
   "metadata": {},
   "source": [
    "For an Excel chart, we don't really need Columns A and B. Those columns can be deleted using clear_contents(). "
   ]
  },
  {
   "cell_type": "code",
   "execution_count": 8,
   "metadata": {
    "collapsed": false
   },
   "outputs": [],
   "source": [
    "Range('A1').vertical.clear_contents()\n",
    "Range('B1').vertical.clear_contents()"
   ]
  },
  {
   "cell_type": "markdown",
   "metadata": {},
   "source": [
    "To create a line chart, the chart first needs to be initialized in Excel. The chart name is then passed into the Chart object."
   ]
  },
  {
   "cell_type": "code",
   "execution_count": 11,
   "metadata": {
    "collapsed": false
   },
   "outputs": [],
   "source": [
    "Chart('Chart 1').set_source_data(Range('D1').vertical)"
   ]
  },
  {
   "cell_type": "code",
   "execution_count": 13,
   "metadata": {
    "collapsed": false
   },
   "outputs": [
    {
     "data": {
      "text/html": [
       "<img src=\"http://www.aaronschlegel.com/wp-content/uploads/2014/06/lynxlinechart.png\"/>"
      ],
      "text/plain": [
       "<IPython.core.display.Image at 0xc985410>"
      ]
     },
     "execution_count": 13,
     "metadata": {},
     "output_type": "execute_result"
    }
   ],
   "source": [
    "Image(url='http://www.aaronschlegel.com/wp-content/uploads/2014/06/lynxlinechart.png')"
   ]
  },
  {
   "cell_type": "markdown",
   "metadata": {},
   "source": [
    "If a chart is not initialized, it will default to a column chart. To add a chart without initializing, you can use Chart().add() "
   ]
  },
  {
   "cell_type": "code",
   "execution_count": 14,
   "metadata": {
    "collapsed": false
   },
   "outputs": [],
   "source": [
    "Chart().add().set_source_data(Range('D1').vertical)"
   ]
  },
  {
   "cell_type": "code",
   "execution_count": 15,
   "metadata": {
    "collapsed": false
   },
   "outputs": [
    {
     "data": {
      "text/html": [
       "<img src=\"http://www.aaronschlegel.com/wp-content/uploads/2014/06/columnchart.png\"/>"
      ],
      "text/plain": [
       "<IPython.core.display.Image at 0xc985470>"
      ]
     },
     "execution_count": 15,
     "metadata": {},
     "output_type": "execute_result"
    }
   ],
   "source": [
    "Image(url='http://www.aaronschlegel.com/wp-content/uploads/2014/06/columnchart.png')"
   ]
  },
  {
   "cell_type": "code",
   "execution_count": 22,
   "metadata": {
    "collapsed": false
   },
   "outputs": [],
   "source": [
    "lynx = lynx.drop(['Unnamed: 0', 'time'], axis=1)"
   ]
  },
  {
   "cell_type": "code",
   "execution_count": 23,
   "metadata": {
    "collapsed": false
   },
   "outputs": [],
   "source": [
    "lynx.columns = ['Lynx Captures']"
   ]
  },
  {
   "cell_type": "code",
   "execution_count": 24,
   "metadata": {
    "collapsed": false
   },
   "outputs": [
    {
     "data": {
      "text/html": [
       "<div style=\"max-height:1000px;max-width:1500px;overflow:auto;\">\n",
       "<table border=\"1\" class=\"dataframe\">\n",
       "  <thead>\n",
       "    <tr style=\"text-align: right;\">\n",
       "      <th></th>\n",
       "      <th>Lynx Captures</th>\n",
       "    </tr>\n",
       "  </thead>\n",
       "  <tbody>\n",
       "    <tr>\n",
       "      <th>0 </th>\n",
       "      <td>  269</td>\n",
       "    </tr>\n",
       "    <tr>\n",
       "      <th>1 </th>\n",
       "      <td>  321</td>\n",
       "    </tr>\n",
       "    <tr>\n",
       "      <th>2 </th>\n",
       "      <td>  585</td>\n",
       "    </tr>\n",
       "    <tr>\n",
       "      <th>3 </th>\n",
       "      <td>  871</td>\n",
       "    </tr>\n",
       "    <tr>\n",
       "      <th>4 </th>\n",
       "      <td> 1475</td>\n",
       "    </tr>\n",
       "    <tr>\n",
       "      <th>5 </th>\n",
       "      <td> 2821</td>\n",
       "    </tr>\n",
       "    <tr>\n",
       "      <th>6 </th>\n",
       "      <td> 3928</td>\n",
       "    </tr>\n",
       "    <tr>\n",
       "      <th>7 </th>\n",
       "      <td> 5943</td>\n",
       "    </tr>\n",
       "    <tr>\n",
       "      <th>8 </th>\n",
       "      <td> 4950</td>\n",
       "    </tr>\n",
       "    <tr>\n",
       "      <th>9 </th>\n",
       "      <td> 2577</td>\n",
       "    </tr>\n",
       "    <tr>\n",
       "      <th>10</th>\n",
       "      <td>  523</td>\n",
       "    </tr>\n",
       "    <tr>\n",
       "      <th>11</th>\n",
       "      <td>   98</td>\n",
       "    </tr>\n",
       "    <tr>\n",
       "      <th>12</th>\n",
       "      <td>  184</td>\n",
       "    </tr>\n",
       "    <tr>\n",
       "      <th>13</th>\n",
       "      <td>  279</td>\n",
       "    </tr>\n",
       "    <tr>\n",
       "      <th>14</th>\n",
       "      <td>  409</td>\n",
       "    </tr>\n",
       "    <tr>\n",
       "      <th>15</th>\n",
       "      <td> 2285</td>\n",
       "    </tr>\n",
       "    <tr>\n",
       "      <th>16</th>\n",
       "      <td> 2685</td>\n",
       "    </tr>\n",
       "    <tr>\n",
       "      <th>17</th>\n",
       "      <td> 3409</td>\n",
       "    </tr>\n",
       "    <tr>\n",
       "      <th>18</th>\n",
       "      <td> 1824</td>\n",
       "    </tr>\n",
       "    <tr>\n",
       "      <th>19</th>\n",
       "      <td>  409</td>\n",
       "    </tr>\n",
       "    <tr>\n",
       "      <th>20</th>\n",
       "      <td>  151</td>\n",
       "    </tr>\n",
       "    <tr>\n",
       "      <th>21</th>\n",
       "      <td>   45</td>\n",
       "    </tr>\n",
       "    <tr>\n",
       "      <th>22</th>\n",
       "      <td>   68</td>\n",
       "    </tr>\n",
       "    <tr>\n",
       "      <th>23</th>\n",
       "      <td>  213</td>\n",
       "    </tr>\n",
       "    <tr>\n",
       "      <th>24</th>\n",
       "      <td>  546</td>\n",
       "    </tr>\n",
       "    <tr>\n",
       "      <th>25</th>\n",
       "      <td> 1033</td>\n",
       "    </tr>\n",
       "    <tr>\n",
       "      <th>26</th>\n",
       "      <td> 2129</td>\n",
       "    </tr>\n",
       "    <tr>\n",
       "      <th>27</th>\n",
       "      <td> 2536</td>\n",
       "    </tr>\n",
       "    <tr>\n",
       "      <th>28</th>\n",
       "      <td>  957</td>\n",
       "    </tr>\n",
       "    <tr>\n",
       "      <th>29</th>\n",
       "      <td>  361</td>\n",
       "    </tr>\n",
       "    <tr>\n",
       "      <th>30</th>\n",
       "      <td>  377</td>\n",
       "    </tr>\n",
       "    <tr>\n",
       "      <th>31</th>\n",
       "      <td>  225</td>\n",
       "    </tr>\n",
       "    <tr>\n",
       "      <th>32</th>\n",
       "      <td>  360</td>\n",
       "    </tr>\n",
       "    <tr>\n",
       "      <th>33</th>\n",
       "      <td>  731</td>\n",
       "    </tr>\n",
       "    <tr>\n",
       "      <th>34</th>\n",
       "      <td> 1638</td>\n",
       "    </tr>\n",
       "    <tr>\n",
       "      <th>35</th>\n",
       "      <td> 2725</td>\n",
       "    </tr>\n",
       "    <tr>\n",
       "      <th>36</th>\n",
       "      <td> 2871</td>\n",
       "    </tr>\n",
       "    <tr>\n",
       "      <th>37</th>\n",
       "      <td> 2119</td>\n",
       "    </tr>\n",
       "    <tr>\n",
       "      <th>38</th>\n",
       "      <td>  684</td>\n",
       "    </tr>\n",
       "    <tr>\n",
       "      <th>39</th>\n",
       "      <td>  299</td>\n",
       "    </tr>\n",
       "    <tr>\n",
       "      <th>40</th>\n",
       "      <td>  236</td>\n",
       "    </tr>\n",
       "    <tr>\n",
       "      <th>41</th>\n",
       "      <td>  245</td>\n",
       "    </tr>\n",
       "    <tr>\n",
       "      <th>42</th>\n",
       "      <td>  552</td>\n",
       "    </tr>\n",
       "    <tr>\n",
       "      <th>43</th>\n",
       "      <td> 1623</td>\n",
       "    </tr>\n",
       "    <tr>\n",
       "      <th>44</th>\n",
       "      <td> 3311</td>\n",
       "    </tr>\n",
       "    <tr>\n",
       "      <th>45</th>\n",
       "      <td> 6721</td>\n",
       "    </tr>\n",
       "    <tr>\n",
       "      <th>46</th>\n",
       "      <td> 4254</td>\n",
       "    </tr>\n",
       "    <tr>\n",
       "      <th>47</th>\n",
       "      <td>  687</td>\n",
       "    </tr>\n",
       "    <tr>\n",
       "      <th>48</th>\n",
       "      <td>  255</td>\n",
       "    </tr>\n",
       "    <tr>\n",
       "      <th>49</th>\n",
       "      <td>  473</td>\n",
       "    </tr>\n",
       "    <tr>\n",
       "      <th>50</th>\n",
       "      <td>  358</td>\n",
       "    </tr>\n",
       "    <tr>\n",
       "      <th>51</th>\n",
       "      <td>  784</td>\n",
       "    </tr>\n",
       "    <tr>\n",
       "      <th>52</th>\n",
       "      <td> 1594</td>\n",
       "    </tr>\n",
       "    <tr>\n",
       "      <th>53</th>\n",
       "      <td> 1676</td>\n",
       "    </tr>\n",
       "    <tr>\n",
       "      <th>54</th>\n",
       "      <td> 2251</td>\n",
       "    </tr>\n",
       "    <tr>\n",
       "      <th>55</th>\n",
       "      <td> 1426</td>\n",
       "    </tr>\n",
       "    <tr>\n",
       "      <th>56</th>\n",
       "      <td>  756</td>\n",
       "    </tr>\n",
       "    <tr>\n",
       "      <th>57</th>\n",
       "      <td>  299</td>\n",
       "    </tr>\n",
       "    <tr>\n",
       "      <th>58</th>\n",
       "      <td>  201</td>\n",
       "    </tr>\n",
       "    <tr>\n",
       "      <th>59</th>\n",
       "      <td>  229</td>\n",
       "    </tr>\n",
       "    <tr>\n",
       "      <th></th>\n",
       "      <td>...</td>\n",
       "    </tr>\n",
       "  </tbody>\n",
       "</table>\n",
       "<p>114 rows × 1 columns</p>\n",
       "</div>"
      ],
      "text/plain": [
       "    Lynx Captures\n",
       "0             269\n",
       "1             321\n",
       "2             585\n",
       "3             871\n",
       "4            1475\n",
       "5            2821\n",
       "6            3928\n",
       "7            5943\n",
       "8            4950\n",
       "9            2577\n",
       "10            523\n",
       "11             98\n",
       "12            184\n",
       "13            279\n",
       "14            409\n",
       "15           2285\n",
       "16           2685\n",
       "17           3409\n",
       "18           1824\n",
       "19            409\n",
       "20            151\n",
       "21             45\n",
       "22             68\n",
       "23            213\n",
       "24            546\n",
       "25           1033\n",
       "26           2129\n",
       "27           2536\n",
       "28            957\n",
       "29            361\n",
       "30            377\n",
       "31            225\n",
       "32            360\n",
       "33            731\n",
       "34           1638\n",
       "35           2725\n",
       "36           2871\n",
       "37           2119\n",
       "38            684\n",
       "39            299\n",
       "40            236\n",
       "41            245\n",
       "42            552\n",
       "43           1623\n",
       "44           3311\n",
       "45           6721\n",
       "46           4254\n",
       "47            687\n",
       "48            255\n",
       "49            473\n",
       "50            358\n",
       "51            784\n",
       "52           1594\n",
       "53           1676\n",
       "54           2251\n",
       "55           1426\n",
       "56            756\n",
       "57            299\n",
       "58            201\n",
       "59            229\n",
       "              ...\n",
       "\n",
       "[114 rows x 1 columns]"
      ]
     },
     "execution_count": 24,
     "metadata": {},
     "output_type": "execute_result"
    }
   ],
   "source": [
    "lynx"
   ]
  },
  {
   "cell_type": "markdown",
   "metadata": {},
   "source": [
    "Copy lynx data in Excel sheet starting at cell A1. As the data is set as a pandas DataFrame, the index column will be copied as well."
   ]
  },
  {
   "cell_type": "code",
   "execution_count": 25,
   "metadata": {
    "collapsed": false
   },
   "outputs": [
    {
     "data": {
      "text/plain": [
       "<matplotlib.axes.AxesSubplot at 0xc856db0>"
      ]
     },
     "execution_count": 25,
     "metadata": {},
     "output_type": "execute_result"
    }
   ],
   "source": [
    "lynx.plot(figsize=(12,8))"
   ]
  },
  {
   "cell_type": "code",
   "execution_count": 26,
   "metadata": {
    "collapsed": false
   },
   "outputs": [],
   "source": [
    "lynx.index = pd.Index(sm.tsa.datetools.dates_from_range('1821', '1934'))"
   ]
  },
  {
   "cell_type": "code",
   "execution_count": 27,
   "metadata": {
    "collapsed": false
   },
   "outputs": [
    {
     "ename": "NameError",
     "evalue": "name 'figsize' is not defined",
     "output_type": "error",
     "traceback": [
      "\u001b[1;31m---------------------------------------------------------------------------\u001b[0m\n\u001b[1;31mNameError\u001b[0m                                 Traceback (most recent call last)",
      "\u001b[1;32m<ipython-input-27-81e572bc0f34>\u001b[0m in \u001b[0;36m<module>\u001b[1;34m()\u001b[0m\n\u001b[1;32m----> 1\u001b[1;33m \u001b[0mlynx\u001b[0m\u001b[1;33m.\u001b[0m\u001b[0mplot\u001b[0m\u001b[1;33m(\u001b[0m\u001b[0mfigsize\u001b[0m\u001b[1;33m(\u001b[0m\u001b[1;36m10\u001b[0m\u001b[1;33m,\u001b[0m\u001b[1;36m8\u001b[0m\u001b[1;33m)\u001b[0m\u001b[1;33m)\u001b[0m\u001b[1;33m\u001b[0m\u001b[0m\n\u001b[0m",
      "\u001b[1;31mNameError\u001b[0m: name 'figsize' is not defined"
     ]
    }
   ],
   "source": [
    "lynx.plot(figsize(10,8))"
   ]
  },
  {
   "cell_type": "code",
   "execution_count": 28,
   "metadata": {
    "collapsed": false
   },
   "outputs": [],
   "source": [
    "fig = plt.figure(figsize=(12,8))\n",
    "ax1 = fig.add_subplot(211)\n",
    "fig = sm.graphics.tsa.plot_acf(lynx.values.squeeze(), lags=40, ax=ax1)\n",
    "ax2 = fig.add_subplot(212)\n",
    "fig = sm.graphics.tsa.plot_pacf(lynx, lags=40, ax=ax2)"
   ]
  },
  {
   "cell_type": "code",
   "execution_count": 29,
   "metadata": {
    "collapsed": false
   },
   "outputs": [
    {
     "name": "stdout",
     "output_type": "stream",
     "text": [
      "const                  1546.541247\n",
      "ar.L1.Lynx Captures       1.312878\n",
      "ar.L2.Lynx Captures      -0.712779\n",
      "ma.L1.Lynx Captures      -0.275909\n",
      "dtype: float64\n"
     ]
    }
   ],
   "source": [
    "arma212 = sm.tsa.ARMA(lynx, (2,1,2)).fit()\n",
    "print(arma212.params)"
   ]
  },
  {
   "cell_type": "code",
   "execution_count": 30,
   "metadata": {
    "collapsed": false
   },
   "outputs": [
    {
     "name": "stdout",
     "output_type": "stream",
     "text": [
      "1879.45889466 1893.1398869 1885.01124265\n"
     ]
    }
   ],
   "source": [
    "print(arma212.aic, arma212.bic, arma212.hqic)"
   ]
  },
  {
   "cell_type": "markdown",
   "metadata": {},
   "source": [
    "Copy the parameter information into Excel for users to determine goodness-of-fit."
   ]
  },
  {
   "cell_type": "code",
   "execution_count": 31,
   "metadata": {
    "collapsed": false
   },
   "outputs": [],
   "source": [
    "Range('J2').value = \"Akaide Information Criterion (AIC)\"\n",
    "Range('K2').value = arma212.aic\n",
    "\n",
    "Range('J3').value = \"Bayesian Information Criterion (BIC)\"\n",
    "Range('K3').value = arma212.bic\n",
    "\n",
    "Range('J4').value = \"Hannan-Quinn Information Criterion (HQIC)\"\n",
    "Range('K4').value = arma212.hqic"
   ]
  },
  {
   "cell_type": "code",
   "execution_count": 32,
   "metadata": {
    "collapsed": false
   },
   "outputs": [
    {
     "data": {
      "text/html": [
       "<img src=\"http://www.aaronschlegel.com/wp-content/uploads/2014/06/aicbichqic.png\"/>"
      ],
      "text/plain": [
       "<IPython.core.display.Image at 0xcaad4b0>"
      ]
     },
     "execution_count": 32,
     "metadata": {},
     "output_type": "execute_result"
    }
   ],
   "source": [
    "Image(url='http://www.aaronschlegel.com/wp-content/uploads/2014/06/aicbichqic.png')"
   ]
  },
  {
   "cell_type": "code",
   "execution_count": 33,
   "metadata": {
    "collapsed": false
   },
   "outputs": [
    {
     "data": {
      "text/plain": [
       "1.8611995418908274"
      ]
     },
     "execution_count": 33,
     "metadata": {},
     "output_type": "execute_result"
    }
   ],
   "source": [
    "sm.stats.durbin_watson(arma212.resid.values)"
   ]
  },
  {
   "cell_type": "markdown",
   "metadata": {},
   "source": [
    "Add Durbin-Watson test result in Excel"
   ]
  },
  {
   "cell_type": "code",
   "execution_count": 34,
   "metadata": {
    "collapsed": false
   },
   "outputs": [],
   "source": [
    "Range('J5').value = \"Durbin-Watson test\"\n",
    "Range('K5').value = sm.stats.durbin_watson(arma212.resid.values)"
   ]
  },
  {
   "cell_type": "markdown",
   "metadata": {},
   "source": [
    "Copy residuals into Excel as a DataFrame. The original residuals object was an array, which is copied left-to-right by xlwings."
   ]
  },
  {
   "cell_type": "code",
   "execution_count": 35,
   "metadata": {
    "collapsed": false
   },
   "outputs": [],
   "source": [
    "arma_residual = DataFrame(arma212.resid.values)"
   ]
  },
  {
   "cell_type": "code",
   "execution_count": 36,
   "metadata": {
    "collapsed": false
   },
   "outputs": [],
   "source": [
    "Range('M1').value = arma_residual\n",
    "Range('N1').value = \"Residuals\""
   ]
  },
  {
   "cell_type": "code",
   "execution_count": 37,
   "metadata": {
    "collapsed": false
   },
   "outputs": [
    {
     "data": {
      "text/html": [
       "<img src=\"http://www.aaronschlegel.com/wp-content/uploads/2014/06/residuals.png\"/>"
      ],
      "text/plain": [
       "<IPython.core.display.Image at 0xcaadf70>"
      ]
     },
     "execution_count": 37,
     "metadata": {},
     "output_type": "execute_result"
    }
   ],
   "source": [
    "Image(url='http://www.aaronschlegel.com/wp-content/uploads/2014/06/residuals.png')"
   ]
  },
  {
   "cell_type": "code",
   "execution_count": 38,
   "metadata": {
    "collapsed": false
   },
   "outputs": [],
   "source": [
    "fig = plt.figure(figsize=(12,8))\n",
    "ax = fig.add_subplot(111)\n",
    "ax = arma212.resid.plot(ax=ax)"
   ]
  },
  {
   "cell_type": "code",
   "execution_count": 39,
   "metadata": {
    "collapsed": false
   },
   "outputs": [],
   "source": [
    "residual = arma212.resid"
   ]
  },
  {
   "cell_type": "code",
   "execution_count": 40,
   "metadata": {
    "collapsed": false
   },
   "outputs": [
    {
     "data": {
      "text/plain": [
       "(24.654801694301277, 4.4287160476324091e-06)"
      ]
     },
     "execution_count": 40,
     "metadata": {},
     "output_type": "execute_result"
    }
   ],
   "source": [
    "stats.normaltest(residual)"
   ]
  },
  {
   "cell_type": "code",
   "execution_count": 41,
   "metadata": {
    "collapsed": false
   },
   "outputs": [],
   "source": [
    "fig = plt.figure(figsize=(12,8))\n",
    "ax = fig.add_subplot(111)\n",
    "fig = qqplot(residual, line='q', ax=ax, fit=True)"
   ]
  },
  {
   "cell_type": "code",
   "execution_count": 42,
   "metadata": {
    "collapsed": false
   },
   "outputs": [
    {
     "name": "stdout",
     "output_type": "stream",
     "text": [
      "           AC          Q  Prob(>Q)\n",
      "lag                               \n",
      "1    0.058023   0.393992  0.530208\n",
      "2   -0.197533   5.001066  0.082041\n",
      "3    0.058472   5.408380  0.144222\n",
      "4    0.080439   6.186242  0.185665\n",
      "5    0.053773   6.537048  0.257409\n",
      "6    0.000820   6.537130  0.365779\n",
      "7   -0.215672  12.285797  0.091543\n",
      "8   -0.020543  12.338445  0.136730\n",
      "9    0.234537  19.266279  0.023022\n",
      "10   0.151492  22.184446  0.014192\n",
      "11  -0.076635  22.938466  0.018032\n",
      "12  -0.066415  23.510337  0.023693\n",
      "13  -0.123466  25.506213  0.019789\n",
      "14  -0.048711  25.819985  0.027284\n",
      "15   0.002392  25.820749  0.039950\n",
      "16  -0.118694  27.721815  0.034125\n",
      "17  -0.194481  32.878204  0.011679\n",
      "18   0.012396  32.899369  0.017164\n",
      "19   0.178958  37.357368  0.007157\n",
      "20   0.063380  37.922481  0.009051\n",
      "21  -0.024635  38.008774  0.012858\n",
      "22  -0.098950  39.416141  0.012639\n",
      "23  -0.066149  40.052009  0.015164\n",
      "24  -0.026779  40.157376  0.020569\n",
      "25   0.006791  40.164229  0.028051\n",
      "26  -0.102054  41.729324  0.026171\n",
      "27  -0.136035  44.542170  0.018163\n",
      "28   0.066704  45.226350  0.020925\n",
      "29   0.180582  50.299686  0.008383\n",
      "30   0.121840  52.636707  0.006498\n",
      "31  -0.078518  53.618971  0.007062\n",
      "32  -0.104498  55.380000  0.006324\n",
      "33   0.017356  55.429178  0.008567\n",
      "34   0.053674  55.905389  0.010368\n",
      "35  -0.021403  55.982068  0.013626\n",
      "36  -0.179729  61.458615  0.005149\n",
      "37   0.064941  62.182908  0.005900\n",
      "38   0.310894  79.000938  0.000107\n",
      "39   0.051158  79.462401  0.000139\n",
      "40  -0.003447  79.464524  0.000204\n",
      "\n",
      "[40 rows x 3 columns]\n"
     ]
    }
   ],
   "source": [
    "r, q, p = sm.tsa.acf(residual.values.squeeze(), qstat=True)\n",
    "data = np.c_[range(1,41), r[1:], q, p]\n",
    "table = DataFrame(data, columns=['lag', \"AC\", \"Q\", \"Prob(>Q)\"])\n",
    "print(table.set_index('lag'))"
   ]
  },
  {
   "cell_type": "markdown",
   "metadata": {},
   "source": [
    "Copy lag, autocorrelation, and q values into Excel"
   ]
  },
  {
   "cell_type": "code",
   "execution_count": 43,
   "metadata": {
    "collapsed": false
   },
   "outputs": [],
   "source": [
    "Range('P1').value = table"
   ]
  },
  {
   "cell_type": "code",
   "execution_count": 44,
   "metadata": {
    "collapsed": false
   },
   "outputs": [
    {
     "data": {
      "text/html": [
       "<img src=\"http://www.aaronschlegel.com/wp-content/uploads/2014/06/lag_input.png\"/>"
      ],
      "text/plain": [
       "<IPython.core.display.Image at 0xcaade10>"
      ]
     },
     "execution_count": 44,
     "metadata": {},
     "output_type": "execute_result"
    }
   ],
   "source": [
    "Image(url='http://www.aaronschlegel.com/wp-content/uploads/2014/06/lag_input.png')"
   ]
  },
  {
   "cell_type": "code",
   "execution_count": 47,
   "metadata": {
    "collapsed": false
   },
   "outputs": [
    {
     "name": "stdout",
     "output_type": "stream",
     "text": [
      "1920-12-31     662.492124\n",
      "1921-12-31    1431.212456\n",
      "1922-12-31    2025.260222\n",
      "1923-12-31    2257.244705\n",
      "1924-12-31    2138.387257\n",
      "1925-12-31    1816.988299\n",
      "1926-12-31    1479.749820\n",
      "1927-12-31    1266.083303\n",
      "1928-12-31    1225.941754\n",
      "1929-12-31    1325.537795\n",
      "1930-12-31    1484.907279\n",
      "1931-12-31    1623.149981\n",
      "1932-12-31    1691.050548\n",
      "1933-12-31    1681.659213\n",
      "1934-12-31    1620.931442\n",
      "Freq: A-DEC, dtype: float64\n"
     ]
    }
   ],
   "source": [
    "insample_lynx = arma212.predict('1920', '1934', dynamic=True)\n",
    "print(insample_lynx)"
   ]
  },
  {
   "cell_type": "markdown",
   "metadata": {},
   "source": [
    "Copy the in-sample predicted values into Excel"
   ]
  },
  {
   "cell_type": "code",
   "execution_count": 48,
   "metadata": {
    "collapsed": false
   },
   "outputs": [],
   "source": [
    "Range('V1').value = DataFrame(insample_lynx)\n",
    "Range('W1').value = \"Predicted In-Sample Values\""
   ]
  },
  {
   "cell_type": "code",
   "execution_count": 49,
   "metadata": {
    "collapsed": false
   },
   "outputs": [
    {
     "data": {
      "text/html": [
       "<img src=\"http://www.aaronschlegel.com/wp-content/uploads/2014/06/in-sample_prediction.png\"/>"
      ],
      "text/plain": [
       "<IPython.core.display.Image at 0xea708f0>"
      ]
     },
     "execution_count": 49,
     "metadata": {},
     "output_type": "execute_result"
    }
   ],
   "source": [
    "Image(url='http://www.aaronschlegel.com/wp-content/uploads/2014/06/in-sample_prediction.png')"
   ]
  },
  {
   "cell_type": "code",
   "execution_count": 103,
   "metadata": {
    "collapsed": false
   },
   "outputs": [
    {
     "data": {
      "image/png": "[encoded data removed]",
      "text/plain": [
       "<matplotlib.figure.Figure at 0xf385250>"
      ]
     },
     "metadata": {},
     "output_type": "display_data"
    }
   ],
   "source": [
    "ax = lynx.ix['1900':].plot(figsize=(12,8))\n",
    "ax = insample_lynx.plot(ax=ax, style='r--', label=\"In-sample prediction\");\n",
    "ax.legend();"
   ]
  },
  {
   "cell_type": "markdown",
   "metadata": {},
   "source": [
    "So yeah, not the best model, but let's continue on like it is."
   ]
  },
  {
   "cell_type": "markdown",
   "metadata": {},
   "source": [
    "Initialize Excel line chart to add predicted values."
   ]
  },
  {
   "cell_type": "code",
   "execution_count": 104,
   "metadata": {
    "collapsed": false
   },
   "outputs": [],
   "source": [
    "Chart('Chart 4').set_source_data(Range('W2').vertical)"
   ]
  },
  {
   "cell_type": "markdown",
   "metadata": {},
   "source": [
    "Since the predicted values are in sample, a more desired output would be to put the predicted values in the same chart as the observed; however, this functionality does not yet exist (that I know of) and would need to be done with a different package."
   ]
  },
  {
   "cell_type": "code",
   "execution_count": 105,
   "metadata": {
    "collapsed": false
   },
   "outputs": [],
   "source": [
    "def forecast_err(y, yh):\n",
    "    return y.sub(yh).mean()"
   ]
  },
  {
   "cell_type": "code",
   "execution_count": 107,
   "metadata": {
    "collapsed": false
   },
   "outputs": [],
   "source": [
    "error = forecast_err(lynx['Lynx Captures'], insample_lynx)"
   ]
  },
  {
   "cell_type": "markdown",
   "metadata": {},
   "source": [
    "Enter forecast error into Excel"
   ]
  },
  {
   "cell_type": "code",
   "execution_count": 108,
   "metadata": {
    "collapsed": false
   },
   "outputs": [],
   "source": [
    "Range('J6').value = \"Average Forecast Error\"\n",
    "Range('K6').value = error"
   ]
  },
  {
   "cell_type": "markdown",
   "metadata": {},
   "source": [
    "### Summary"
   ]
  },
  {
   "cell_type": "markdown",
   "metadata": {},
   "source": [
    "The purpose of this notebook is to test a workflow to implement Python and Excel for better data analysis. Xlwings is a great tool for  this workflow as it allows interaction between an IPython notebook and Excel. However, since it is relatively new and thus does not have as much functionality as other packages that have been around longer, it may be necessary to use packages such as xlwt/xlrt in development."
   ]
  },
  {
   "cell_type": "markdown",
   "metadata": {},
   "source": [
    "My next test for this workflow is to fully integrate the ARMA forecasting experiment with Excel. Due to Excel's saturation in the marketplace, and with the recent improvements in Excel 2013, I think there is great potential to use it as a front-end for better analytics built in Python and R."
   ]
  },
  {
   "cell_type": "code",
   "execution_count": 1,
   "metadata": {
    "collapsed": false
   },
   "outputs": [
    {
     "data": {
      "text/html": [
       "/*\n",
       "Placeholder for custom user CSS\n",
       "\n",
       "mainly to be overridden in profile/static/custom/custom.css\n",
       "\n",
       "This will always be an empty file in IPython\n",
       "*/\n",
       "<style>\n",
       "@import url(http://fonts.googleapis.com/css?family=Lato|Source+Code+Pro|Montserrat:400,700);\n",
       "\n",
       "body {\n",
       "\tfont-family: 'Lato', sans-serif !important;\n",
       "\tfont-size: 1.25em !important;\n",
       "\tline-height: 30px !important;\n",
       "\tfont-weight: 400 !important;\n",
       "\tcolor: #8d8d8d !important;\n",
       "}\n",
       "\n",
       "#notebook-container {\n",
       "\t-webkit-box-shadow: none;\n",
       "\tbox-shadow: none;\n",
       "}\n",
       "\n",
       ".rendered_html h1 { font-size: 4rem !important;  }\n",
       ".rendered_html h2 { font-size: 3rem !important; }\n",
       ".rendered_html h3 { font-size: 2.5rem !important; }\n",
       ".rendered_html h4 { font-size: 2rem !important; }\n",
       ".rendered_html h5 { font-size: 1.5rem !important; }\n",
       ".rendered_html h6 { font-size: 1.5rem !important; }\n",
       "\n",
       ".rendered_html h1, \n",
       ".rendered_html h2, \n",
       ".rendered_html h3, \n",
       ".rendered_html h4,\n",
       ".rendered_html h5, \n",
       ".rendered_html h6 {\n",
       "\tfont-family: 'Montserrat', sans-serif !important;\n",
       "\tfont-weight: 300 !important;\n",
       "\tline-height: 1.5em !important;\n",
       "\tcolor: rgb(221, 153, 51) !important;\n",
       "}\n",
       "\n",
       "h1 { font-size: 4.5rem !important; }\n",
       "h2 { font-size: 4rem !important; }\n",
       "h3 { font-size: 3.5rem !important; }\n",
       "h4 { font-size: 3rem !important; }\n",
       "h5 { font-size: 2.5rem !important; }\n",
       "h6 { font-size: 2rem !important; }\n",
       "\n",
       "h1, h2, h3, h4, h5, h6 {\n",
       "\tfont-family: 'Montserrat', sans-serif !important;\n",
       "\tcolor: #e6ae48 !important;\n",
       "\tline-height: 150px !important;\n",
       "}\n",
       "\n",
       "p {\n",
       "\tfont-family: 'Lato', sans-serif !important;\n",
       "\tfont-size: 1.25em !important;\n",
       "\tline-height: 30px !important;\n",
       "\tfont-weight: 400 !important;\n",
       "\tcolor: #8d8d8d !important;\n",
       "}\n",
       "\n",
       "code {\n",
       "\tfont-family: 'Source Code Pro', sans-serif !important;\n",
       "\tfont-size: 1em !important;\n",
       "}\n",
       "\n",
       "pre {\n",
       "\tfont-family: 'Source Code Pro', sans-serif !important;\n",
       "\tfont-size: 1em !important;\n",
       "}\n",
       "\n",
       "div.input_area {\n",
       "\tborder: none !important;\n",
       "\tbackground: whitesmoke !important;\n",
       "}\n",
       "</style>"
      ],
      "text/plain": [
       "<IPython.core.display.HTML object>"
      ]
     },
     "execution_count": 1,
     "metadata": {},
     "output_type": "execute_result"
    }
   ],
   "source": [
    "from IPython.core.display import HTML\n",
    "def css():\n",
    "    style = open(\"css/custom.css\", \"r\").read()\n",
    "    return HTML(style)\n",
    "css()"
   ]
  }
 ],
 "metadata": {
  "kernelspec": {
   "display_name": "Python 2",
   "language": "python",
   "name": "python2"
  },
  "language_info": {
   "codemirror_mode": {
    "name": "ipython",
    "version": 2
   },
   "file_extension": ".py",
   "mimetype": "text/x-python",
   "name": "python",
   "nbconvert_exporter": "python",
   "pygments_lexer": "ipython2",
   "version": "2.7.9"
  }
 },
 "nbformat": 4,
 "nbformat_minor": 0
}
